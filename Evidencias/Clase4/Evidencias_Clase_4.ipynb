{
 "cells": [
  {
   "cell_type": "markdown",
   "id": "5e48b5ab",
   "metadata": {},
   "source": [
    "# Evidencias clase 4 (04/05 y 11/05)\n",
    "# Aproximaciones de Chevyshev y Bessel\n",
    "<img src=\"logo_UTN.svg\" title=\"Asi es como se añade una imagen en Markdown\" align=\"right\" width=\"150\"> "
   ]
  },
  {
   "cell_type": "markdown",
   "id": "7a7c6596",
   "metadata": {},
   "source": [
    "## Teoría de Circuitos II\n",
    "### Alumno: Federico Albero\n",
    "### Curso: R4001"
   ]
  },
  {
   "cell_type": "markdown",
   "id": "4c7ce128",
   "metadata": {},
   "source": [
    "**Aclaración 1:** A modo de evidenciar el progreso en la materia, estaré subiendo los apuntes de mi carpeta clase a clase. Las evidencias las estaré agrupando según el número de clase correspondiente a la planifiación de la materia que está en el campus, en función de los temas y contenidos que esta abarque."
   ]
  },
  {
   "cell_type": "markdown",
   "id": "24454eda",
   "metadata": {},
   "source": [
    "**Aclaración 2:** *Por lo general,* los apuntes de clase (presencial, sincrónica) los tomo en lapiz, ya que luego de clase realizo una segunda lectura de los mismos y al realizar nuevas anotaciones, estas las realizo en tinta para poder diferenciarlas. También al momento de realizar la segunda lectura de los temas, suelo anexar algunas notas tipo \"posticks\" con aclaraciones o información adicional sobre algún tema en partiular que ayude a comprender mejor el tema en cuestión."
   ]
  },
  {
   "cell_type": "markdown",
   "id": "a1eb6c2a",
   "metadata": {},
   "source": [
    "#### Videos vistos para esta clase:\n",
    "<img src=\"evidencia_videos.png\" title=\"Videos playlist clase 4 YouTube\" width=\"300\"> "
   ]
  },
  {
   "cell_type": "markdown",
   "id": "d94ec856",
   "metadata": {},
   "source": [
    "#### Contenido del pdf clase 3:\n",
    "* Introducción a la teoría moderna de filtrado.\n"
   ]
  },
  {
   "cell_type": "code",
   "execution_count": 1,
   "id": "fcddb043",
   "metadata": {},
   "outputs": [
    {
     "data": {
      "text/html": [
       "\n",
       "        <iframe\n",
       "            width=\"1000\"\n",
       "            height=\"1000\"\n",
       "            src=\"./evidencias_carpeta_clase4.pdf\"\n",
       "            frameborder=\"0\"\n",
       "            allowfullscreen\n",
       "            \n",
       "        ></iframe>\n",
       "        "
      ],
      "text/plain": [
       "<IPython.lib.display.IFrame at 0x7fc0dc42e200>"
      ]
     },
     "execution_count": 1,
     "metadata": {},
     "output_type": "execute_result"
    }
   ],
   "source": [
    "from IPython.display import IFrame\n",
    "IFrame(\"./evidencias_carpeta_clase4.pdf\", width=1000, height=1000)"
   ]
  },
  {
   "cell_type": "markdown",
   "id": "f24d4ea8",
   "metadata": {},
   "source": [
    "#### Scripts de Python utilizados para corroborar los ejercicios realizados en los videos de las clases:"
   ]
  },
  {
   "cell_type": "code",
   "execution_count": 2,
   "id": "da386975",
   "metadata": {},
   "outputs": [],
   "source": [
    "#!/usr/bin/env python3\n",
    "# -*- coding: utf-8 -*-\n",
    "\"\"\"\n",
    "Created on Wed May 17 18:01:07 2023\n",
    "\n",
    "@author: fede23\n",
    "\"\"\"\n",
    "\n",
    "#%% Ejercicio Chebychev - Clase 4 %%#\n",
    "\n",
    "import numpy as np\n",
    "import scipy.signal as sig\n",
    "import matplotlib.pyplot as plt\n",
    "# import matplotlib as mpl\n",
    "\n",
    "from pytc2.sistemas_lineales import analyze_sys, tf2sos_analog, pretty_print_SOS\n",
    "from pytc2.general import print_subtitle\n",
    "\n",
    "alpha_max = 1\n",
    "\n",
    "ee = (10**(alpha_max/10) - 1) # epsilon²\n",
    "e = np.sqrt(ee) # epsilon\n",
    "\n",
    "raices = np.roots([1, 0, 48*ee, -128*ee])"
   ]
  },
  {
   "cell_type": "code",
   "execution_count": 3,
   "id": "8962cfd5",
   "metadata": {},
   "outputs": [
    {
     "name": "stdout",
     "output_type": "stream",
     "text": [
      "nn 1 - alpha_min 14.296318\n",
      "nn 2 - alpha_min 40.109232\n",
      "nn 3 - alpha_min 66.107558\n",
      "nn 4 - alpha_min 92.106360\n"
     ]
    }
   ],
   "source": [
    "#!/usr/bin/env python3\n",
    "# -*- coding: utf-8 -*-\n",
    "\"\"\"\n",
    "Created on Wed May 17 18:08:07 2023\n",
    "\n",
    "@author: fede23\n",
    "\"\"\"\n",
    "\n",
    "#%% Ejercicio Chebychev - Clase 4 %%#\n",
    "\n",
    "import numpy as np\n",
    "import scipy.signal as sig\n",
    "import matplotlib.pyplot as plt\n",
    "# import matplotlib as mpl\n",
    "\n",
    "from pytc2.sistemas_lineales import analyze_sys, tf2sos_analog, pretty_print_SOS\n",
    "from pytc2.general import print_subtitle\n",
    "\n",
    "# Datos\n",
    "alpha_max = 1\n",
    "ws = 10\n",
    "\n",
    "ee = (10**(alpha_max/10) - 1) # epsilon²\n",
    "e = np.sqrt(ee) # epsilon\n",
    "\n",
    "for nn in range(1,5):\n",
    "    \n",
    "    alpha_min = 10*np.log10( 1 + ee* np.cosh(nn * np.arccosh(ws))**2 )\n",
    "    \n",
    "    print( 'nn {:d} - alpha_min {:f}'.format(nn, alpha_min)) # me quedo con n=3\n",
    "\n",
    "nn = 3 # luego de iterar\n",
    "\n",
    "z, p, k = sig.cheb1ap(nn, alpha_max)\n",
    "num, den = sig.zpk2tf(z, p, k) \n",
    "# recordar que siempre estas funciones devuelven num y denum en formato mónico, con el coeficiente de mayor orden en 1\n",
    "# si lo quiero llevar al formato de partes de funciones, multiplico cada valor de \"den\" por el coeficiente a^(-1)\n",
    "\n",
    "#%% Verificación por parte de funciones %%#\n",
    "\n",
    "a = 4*e\n",
    "d = 1\n",
    "\n",
    "raices_b = np.roots([1, 0, 48*ee, -128*ee])\n",
    "b = raices_b[-1]\n",
    "c = np.sqrt( 9*ee + 2*b*d )\n",
    "\n",
    "num_2 = 1\n",
    "den_2 = [a, b.real, c.real, d]\n",
    "\n",
    "#%% Comparo resultados %%#\n",
    "den_1=[]\n",
    "\n",
    "num_1 = num_2*(a**(-1))\n",
    "for i in range(len(den_2)):\n",
    "    den_1.append(den_2[i]*(a**(-1)) )\n"
   ]
  }
 ],
 "metadata": {
  "kernelspec": {
   "display_name": "Python 3 (ipykernel)",
   "language": "python",
   "name": "python3"
  },
  "language_info": {
   "codemirror_mode": {
    "name": "ipython",
    "version": 3
   },
   "file_extension": ".py",
   "mimetype": "text/x-python",
   "name": "python",
   "nbconvert_exporter": "python",
   "pygments_lexer": "ipython3",
   "version": "3.10.6"
  }
 },
 "nbformat": 4,
 "nbformat_minor": 5
}
