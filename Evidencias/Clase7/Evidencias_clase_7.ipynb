{
 "cells": [
  {
   "cell_type": "markdown",
   "id": "75e88724",
   "metadata": {},
   "source": [
    "# Evidencias clase 7 (08/06)\n",
    "# Funciones bilineales y bicuadráticas, análisis e implementación\n",
    "<img src=\"logo_UTN.svg\" title=\"Asi es como se añade una imagen en Markdown\" align=\"right\" width=\"150\"> "
   ]
  },
  {
   "cell_type": "markdown",
   "id": "2c5ca402",
   "metadata": {},
   "source": [
    "## Teoría de Circuitos II\n",
    "### Alumno: Federico Albero\n",
    "### Curso: R4001"
   ]
  },
  {
   "cell_type": "markdown",
   "id": "8b97d13d",
   "metadata": {},
   "source": [
    "**Aclaración 1:** A modo de evidenciar el progreso en la materia, estaré subiendo los apuntes de mi carpeta clase a clase. Las evidencias las estaré agrupando según el número de clase correspondiente a la planifiación de la materia que está en el campus, en función de los temas y contenidos que esta abarque."
   ]
  },
  {
   "cell_type": "markdown",
   "id": "d3b50aa9",
   "metadata": {},
   "source": [
    "**Aclaración 2:** *Por lo general,* los apuntes de clase (presencial, sincrónica) los tomo en lapiz, ya que luego de clase realizo una segunda lectura de los mismos y al realizar nuevas anotaciones, estas las realizo en tinta para poder diferenciarlas. También al momento de realizar la segunda lectura de los temas, suelo anexar algunas notas tipo \"posticks\" con aclaraciones o información adicional sobre algún tema en partiular que ayude a comprender mejor el tema en cuestión."
   ]
  },
  {
   "cell_type": "markdown",
   "id": "69e28e13",
   "metadata": {},
   "source": [
    "#### Videos vistos para esta clase:\n",
    "<img src=\"evidencia_videos.png\" title=\"Videos playlist clase 7 YouTube\" width=\"300\"> "
   ]
  },
  {
   "cell_type": "markdown",
   "id": "3902de7b",
   "metadata": {},
   "source": [
    "#### Contenido de la carpeta en la clase 7:\n",
    "* Anotaciones clase presencial (08/06):\n",
    "    * Repaso filtro función transferencia y diagrama zpk de un filtro notch.\n",
    "    * Implementació pasiva de un filtro notch a través de un tanque LC.\n",
    "    * Circuitos duales.\n",
    "    * Circuito Lattice (red balanceada).\n",
    "    * Levantamiento parcial de masa.\n",
    "* Anotaciones videos playlist clase 7:\n",
    "    * Funciones bilineales: **ver Schaumann páginas 75-78.**\n",
    "    * Implementación de redes pasivas.\n",
    "    * Red Lattice e implementación de un filtro pasa todo (APF).\n",
    "    * Implementaciones activas.\n",
    "    * Circuito Lattice activo.\n",
    "    * Funciones bicuadráticas: **ver Schaumann páginas 206-209.**\n",
    "    * Estudio de la fase de un filtro pasa todo (APF).\n",
    "    * Estudio de un filtro notch y las implicancias de la variación de su Q.\n",
    "    * Variantes de un filtro notch: Notch pasa altos y notch pasa bajos.\n",
    "    * Implementación de bicuadráticas por suma de transferencias.\n",
    "    * Pre-alimentación de tensión / voltage feedforward.\n",
    "    * Función bicuadrática completa + ejemplos."
   ]
  },
  {
   "cell_type": "markdown",
   "id": "190ddf20",
   "metadata": {},
   "source": [
    "#### Carpeta escaneada:"
   ]
  },
  {
   "cell_type": "code",
   "execution_count": 1,
   "id": "6182dc67",
   "metadata": {},
   "outputs": [
    {
     "data": {
      "text/html": [
       "\n",
       "        <iframe\n",
       "            width=\"1000\"\n",
       "            height=\"1000\"\n",
       "            src=\"./Evidencias_carpeta_clase7.pdf\"\n",
       "            frameborder=\"0\"\n",
       "            allowfullscreen\n",
       "            \n",
       "        ></iframe>\n",
       "        "
      ],
      "text/plain": [
       "<IPython.lib.display.IFrame at 0x7fd97d213e80>"
      ]
     },
     "execution_count": 1,
     "metadata": {},
     "output_type": "execute_result"
    }
   ],
   "source": [
    "from IPython.display import IFrame\n",
    "IFrame(\"./Evidencias_carpeta_clase7.pdf\", width=1000, height=1000)"
   ]
  },
  {
   "cell_type": "markdown",
   "id": "fbbb607b",
   "metadata": {},
   "source": [
    "#### Uso de la bibliográfía de la materia:\n",
    "Como ya se mencionó anteriormente, se utilizó el libro de Schaumann para complementar los contenidos de esta clase. A continuación se adjuntan las páginas leidas y resumidas:"
   ]
  },
  {
   "cell_type": "markdown",
   "id": "351074f0",
   "metadata": {},
   "source": [
    "##### Schaumann páginas 75-78"
   ]
  },
  {
   "cell_type": "code",
   "execution_count": 2,
   "id": "157471ae",
   "metadata": {
    "scrolled": false
   },
   "outputs": [
    {
     "data": {
      "text/html": [
       "\n",
       "        <iframe\n",
       "            width=\"1000\"\n",
       "            height=\"1000\"\n",
       "            src=\"./Schaumann_75-78.pdf\"\n",
       "            frameborder=\"0\"\n",
       "            allowfullscreen\n",
       "            \n",
       "        ></iframe>\n",
       "        "
      ],
      "text/plain": [
       "<IPython.lib.display.IFrame at 0x7fd97d2cac20>"
      ]
     },
     "execution_count": 2,
     "metadata": {},
     "output_type": "execute_result"
    }
   ],
   "source": [
    "from IPython.display import IFrame\n",
    "IFrame(\"./Schaumann_75-78.pdf\", width=1000, height=1000)"
   ]
  },
  {
   "cell_type": "markdown",
   "id": "b4b8b32d",
   "metadata": {},
   "source": [
    "##### Schaumann páginas 206-209"
   ]
  },
  {
   "cell_type": "code",
   "execution_count": 3,
   "id": "45243a94",
   "metadata": {},
   "outputs": [
    {
     "data": {
      "text/html": [
       "\n",
       "        <iframe\n",
       "            width=\"1000\"\n",
       "            height=\"1000\"\n",
       "            src=\"./Schaumann_206-209.pdf\"\n",
       "            frameborder=\"0\"\n",
       "            allowfullscreen\n",
       "            \n",
       "        ></iframe>\n",
       "        "
      ],
      "text/plain": [
       "<IPython.lib.display.IFrame at 0x7fd97d213970>"
      ]
     },
     "execution_count": 3,
     "metadata": {},
     "output_type": "execute_result"
    }
   ],
   "source": [
    "from IPython.display import IFrame\n",
    "IFrame(\"./Schaumann_206-209.pdf\", width=1000, height=1000)"
   ]
  }
 ],
 "metadata": {
  "kernelspec": {
   "display_name": "Python 3 (ipykernel)",
   "language": "python",
   "name": "python3"
  },
  "language_info": {
   "codemirror_mode": {
    "name": "ipython",
    "version": 3
   },
   "file_extension": ".py",
   "mimetype": "text/x-python",
   "name": "python",
   "nbconvert_exporter": "python",
   "pygments_lexer": "ipython3",
   "version": "3.10.6"
  }
 },
 "nbformat": 4,
 "nbformat_minor": 5
}
