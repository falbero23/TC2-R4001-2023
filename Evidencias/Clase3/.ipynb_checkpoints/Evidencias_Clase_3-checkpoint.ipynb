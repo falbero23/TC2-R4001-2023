{
 "cells": [
  {
   "cell_type": "markdown",
   "id": "88023790",
   "metadata": {},
   "source": [
    "# Evidencias clase 1 (27/04)\n",
    "<img src=\"logo_UTN.svg\" title=\"Asi es como se añade una imagen en Markdown\" align=\"right\" width=\"150\"> "
   ]
  },
  {
   "cell_type": "markdown",
   "id": "c1416136",
   "metadata": {},
   "source": [
    "## Teoría de Circuitos II\n",
    "### Alumno: Federico Albero\n",
    "### Curso: R4001"
   ]
  },
  {
   "cell_type": "markdown",
   "id": "859a24a4",
   "metadata": {},
   "source": [
    "**Aclaración 1:** A modo de evidenciar el progreso en la materia, estaré subiendo los apuntes de mi carpeta clase a clase. Las evidencias las estaré agrupando según el número de clase correspondiente a la planifiación de la materia que está en el campus, en función de los temas y contenidos que esta abarque."
   ]
  },
  {
   "cell_type": "markdown",
   "id": "11920578",
   "metadata": {},
   "source": [
    "**Aclaración 2:** *Por lo general,* los apuntes de clase (presencial, sincrónica) los tomo en lapiz, ya que luego de clase realizo una segunda lectura de los mismos y al realizar nuevas anotaciones, estas las realizo en tinta para poder diferenciarlas. También al momento de realizar la segunda lectura de los temas, suelo anexar algunas notas tipo \"posticks\" con aclaraciones o información adicional sobre algún tema en partiular que ayude a comprender mejor el tema en cuestión."
   ]
  },
  {
   "cell_type": "markdown",
   "id": "53abaef3",
   "metadata": {},
   "source": [
    "#### Videos vistos para esta clase:\n",
    "<img src=\"evidencias_videos.png\" title=\"Videos playlist clase 3 YouTube\" width=\"300\"> "
   ]
  },
  {
   "cell_type": "markdown",
   "id": "a6b71acf",
   "metadata": {},
   "source": [
    "#### Contenido del pdf clase 3:\n",
    "* Introducción a la teoría moderna de filtrado.\n",
    "* Análisis de módulo de la transferencia.\n",
    "* Análisis de fase de la transferencia.\n",
    "* Máxima planicidad - Butterworth (demostración)\n",
    "* Función transferencia Máxima planicidad - Butterworth.\n",
    "* Propiedades filtros Butterworth de orden \"n\".\n",
    "* Diseño desde una plantilla de atenuación.\n",
    "* Renormalización del filtro ($\\omega_B$).\n",
    "* Anotaciones simulaciones en Spyder de filtros de topología Butterworth."
   ]
  },
  {
   "cell_type": "code",
   "execution_count": 1,
   "id": "9467ae86",
   "metadata": {},
   "outputs": [
    {
     "data": {
      "text/html": [
       "\n",
       "        <iframe\n",
       "            width=\"1000\"\n",
       "            height=\"1000\"\n",
       "            src=\"./evidencias_carpeta_clase3.pdf\"\n",
       "            frameborder=\"0\"\n",
       "            allowfullscreen\n",
       "            \n",
       "        ></iframe>\n",
       "        "
      ],
      "text/plain": [
       "<IPython.lib.display.IFrame at 0x7f7af6316bf0>"
      ]
     },
     "execution_count": 1,
     "metadata": {},
     "output_type": "execute_result"
    }
   ],
   "source": [
    "from IPython.display import IFrame\n",
    "IFrame(\"./evidencias_carpeta_clase3.pdf\", width=1000, height=1000)"
   ]
  }
 ],
 "metadata": {
  "kernelspec": {
   "display_name": "Python 3 (ipykernel)",
   "language": "python",
   "name": "python3"
  },
  "language_info": {
   "codemirror_mode": {
    "name": "ipython",
    "version": 3
   },
   "file_extension": ".py",
   "mimetype": "text/x-python",
   "name": "python",
   "nbconvert_exporter": "python",
   "pygments_lexer": "ipython3",
   "version": "3.10.6"
  }
 },
 "nbformat": 4,
 "nbformat_minor": 5
}
