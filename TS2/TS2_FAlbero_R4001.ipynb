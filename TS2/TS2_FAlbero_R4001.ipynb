{
 "cells": [
  {
   "cell_type": "markdown",
   "id": "3be63b0c",
   "metadata": {},
   "source": [
    "# Trabajo Semanal N°2\n",
    "<img src=\"logo_UTN.svg\" title=\"Asi es como se añade una imagen en Markdown\" align=\"right\" width=\"150\"> "
   ]
  },
  {
   "cell_type": "markdown",
   "id": "046fdbc3",
   "metadata": {},
   "source": [
    "## Teoría de Circuitos II\n",
    "### Alumno: Federico Albero\n",
    "### Curso: R4001"
   ]
  },
  {
   "cell_type": "markdown",
   "id": "5ec0589a",
   "metadata": {},
   "source": [
    "### Red circuital: Configuración Ackerberg - Mossberg"
   ]
  },
  {
   "cell_type": "markdown",
   "id": "1552929c",
   "metadata": {},
   "source": [
    "<img src=\"TS2_FiltroPasaBajos_Circuito.png\" title=\"Circuito TS2\" >"
   ]
  },
  {
   "cell_type": "markdown",
   "id": "dcbecf45",
   "metadata": {},
   "source": [
    "### Ejercicios 1, 2, 3 y Bonus 1, 2 y 4:\n",
    "Se adjunta a continuación archivo PDF con la resolución a mano de dichos incisos."
   ]
  },
  {
   "cell_type": "code",
   "execution_count": 1,
   "id": "09c21aa1",
   "metadata": {},
   "outputs": [
    {
     "data": {
      "text/html": [
       "\n",
       "        <iframe\n",
       "            width=\"1000\"\n",
       "            height=\"1000\"\n",
       "            src=\"./TS2_FAlbero_R4001.pdf\"\n",
       "            frameborder=\"0\"\n",
       "            allowfullscreen\n",
       "            \n",
       "        ></iframe>\n",
       "        "
      ],
      "text/plain": [
       "<IPython.lib.display.IFrame at 0x7f0170544910>"
      ]
     },
     "execution_count": 1,
     "metadata": {},
     "output_type": "execute_result"
    }
   ],
   "source": [
    "from IPython.display import IFrame\n",
    "IFrame(\"./TS2_FAlbero_R4001.pdf\", width=1000, height=1000)"
   ]
  },
  {
   "cell_type": "markdown",
   "id": "5b43aabb",
   "metadata": {},
   "source": [
    "### Simulación circuital (Bonus 4)"
   ]
  },
  {
   "cell_type": "markdown",
   "id": "05da0d32",
   "metadata": {},
   "source": [
    "Utilizando el software LTspice se obtiene el gráfico de tanto el módulo $|T_{(s)}|$ como de la fase $\\varphi_{(s)}$ de la siguiente transferencia:"
   ]
  },
  {
   "cell_type": "markdown",
   "id": "b3206f38",
   "metadata": {},
   "source": [
    "\\begin{equation}\n",
    "T(s) = \\frac{V_{o (s)}}{V_{i (s)}} = \\frac{ (\\frac{-R_3}{R_1}) \\cdot \\omega_0^2}{s^2+s\\frac{\\omega_0}{Q}+\\omega_0^2}\n",
    "\\end{equation}"
   ]
  },
  {
   "cell_type": "markdown",
   "id": "fd15897f",
   "metadata": {},
   "source": [
    "<img src=\"TS2_FiltroPasaBajos_Grafico.png\" title=\"Respuesta en frecuencia y fase de FPB 2° orden\">"
   ]
  },
  {
   "cell_type": "markdown",
   "id": "9facae64",
   "metadata": {},
   "source": [
    "A través de estos gráficos, se pudieron verificar los siguientes resultados obtenidos previamente de manera analítica:\n",
    "* $|T_{(w=0)}| = 20\\,dB\\,(10\\,veces)$\n",
    "* El cursor de la simulación se encuentra situado en $f_o=0.159Hz$, correspondiente a $w_o=1\\,rad/s$, donde aproximadamente se obtiene el valor máximo de la transferencia."
   ]
  }
 ],
 "metadata": {
  "kernelspec": {
   "display_name": "Python 3 (ipykernel)",
   "language": "python",
   "name": "python3"
  },
  "language_info": {
   "codemirror_mode": {
    "name": "ipython",
    "version": 3
   },
   "file_extension": ".py",
   "mimetype": "text/x-python",
   "name": "python",
   "nbconvert_exporter": "python",
   "pygments_lexer": "ipython3",
   "version": "3.10.6"
  }
 },
 "nbformat": 4,
 "nbformat_minor": 5
}
