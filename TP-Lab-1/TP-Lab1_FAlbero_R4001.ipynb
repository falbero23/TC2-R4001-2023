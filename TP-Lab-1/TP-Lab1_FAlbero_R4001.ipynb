{
 "cells": [
  {
   "cell_type": "markdown",
   "id": "a78aa428",
   "metadata": {},
   "source": [
    "<img src=\"logo_UTN.svg\" title=\"Logo UTN\" align=\"right\" width=\"150\"> \n",
    "\n",
    "# Trabajo Práctico de Laboratorio N°1\n",
    "# Teoría moderna y filtrado activo"
   ]
  },
  {
   "cell_type": "markdown",
   "id": "5c512bf7",
   "metadata": {},
   "source": [
    "## Teoría de Circuitos II\n",
    "### Curso: R4001\n",
    "### Alumno: Federico Albero\n",
    "### Profesor: Mariano Llamedo Soria\n",
    "### Jefe de TPs: César Fuoco\n",
    "### Ayudante de TPs: Israel Pavelek"
   ]
  },
  {
   "cell_type": "markdown",
   "id": "ef3d7fad",
   "metadata": {},
   "source": [
    "---"
   ]
  },
  {
   "cell_type": "markdown",
   "id": "e7302179",
   "metadata": {},
   "source": [
    "## Consignas del trabajo:\n",
    "<img src=\"consignas.png\" title=\"Consignas\">"
   ]
  },
  {
   "cell_type": "markdown",
   "id": "9bef8f67",
   "metadata": {},
   "source": [
    "## Plantilla de diseño:\n",
    "<img src=\"plantilla.png\" title=\"Plantilla\">"
   ]
  },
  {
   "cell_type": "markdown",
   "id": "2aa9abaa",
   "metadata": {},
   "source": [
    "[Datasheet UAF42](https://www.ti.com/lit/ds/symlink/uaf42.pdf?ts=1688656770095&ref_url=https%253A%252F%252Fwww.google.com%252F)"
   ]
  },
  {
   "cell_type": "markdown",
   "id": "ce146eb2",
   "metadata": {},
   "source": [
    "___"
   ]
  },
  {
   "cell_type": "markdown",
   "id": "b0f48fbd",
   "metadata": {},
   "source": []
  },
  {
   "cell_type": "markdown",
   "id": "96064d31",
   "metadata": {},
   "source": []
  },
  {
   "cell_type": "markdown",
   "id": "7e2df1da",
   "metadata": {},
   "source": []
  },
  {
   "cell_type": "markdown",
   "id": "c9ca3683",
   "metadata": {},
   "source": []
  },
  {
   "cell_type": "markdown",
   "id": "137bb5e6",
   "metadata": {},
   "source": []
  },
  {
   "cell_type": "code",
   "execution_count": null,
   "id": "f199840c",
   "metadata": {},
   "outputs": [],
   "source": []
  },
  {
   "cell_type": "code",
   "execution_count": null,
   "id": "67d7d0e9",
   "metadata": {},
   "outputs": [],
   "source": []
  },
  {
   "cell_type": "code",
   "execution_count": null,
   "id": "a5165efc",
   "metadata": {},
   "outputs": [],
   "source": []
  },
  {
   "cell_type": "code",
   "execution_count": null,
   "id": "6d62bde1",
   "metadata": {},
   "outputs": [],
   "source": []
  },
  {
   "cell_type": "code",
   "execution_count": null,
   "id": "49372cad",
   "metadata": {},
   "outputs": [],
   "source": []
  },
  {
   "cell_type": "code",
   "execution_count": null,
   "id": "89697665",
   "metadata": {},
   "outputs": [],
   "source": []
  },
  {
   "cell_type": "code",
   "execution_count": null,
   "id": "f8714369",
   "metadata": {},
   "outputs": [],
   "source": []
  },
  {
   "cell_type": "code",
   "execution_count": null,
   "id": "1664316f",
   "metadata": {},
   "outputs": [],
   "source": []
  },
  {
   "cell_type": "code",
   "execution_count": null,
   "id": "3a02bf0e",
   "metadata": {},
   "outputs": [],
   "source": []
  },
  {
   "cell_type": "code",
   "execution_count": null,
   "id": "e3dda132",
   "metadata": {},
   "outputs": [],
   "source": []
  },
  {
   "cell_type": "code",
   "execution_count": null,
   "id": "a70414cc",
   "metadata": {},
   "outputs": [],
   "source": []
  },
  {
   "cell_type": "code",
   "execution_count": null,
   "id": "037be6b4",
   "metadata": {},
   "outputs": [],
   "source": []
  },
  {
   "cell_type": "code",
   "execution_count": null,
   "id": "0275fc92",
   "metadata": {},
   "outputs": [],
   "source": []
  },
  {
   "cell_type": "code",
   "execution_count": null,
   "id": "8809788a",
   "metadata": {},
   "outputs": [],
   "source": []
  },
  {
   "cell_type": "code",
   "execution_count": null,
   "id": "1953869b",
   "metadata": {},
   "outputs": [],
   "source": []
  },
  {
   "cell_type": "code",
   "execution_count": null,
   "id": "92e17fcd",
   "metadata": {},
   "outputs": [],
   "source": []
  },
  {
   "cell_type": "code",
   "execution_count": null,
   "id": "26173812",
   "metadata": {},
   "outputs": [],
   "source": []
  },
  {
   "cell_type": "code",
   "execution_count": null,
   "id": "faf63439",
   "metadata": {},
   "outputs": [],
   "source": []
  },
  {
   "cell_type": "code",
   "execution_count": null,
   "id": "4604a34c",
   "metadata": {},
   "outputs": [],
   "source": []
  },
  {
   "cell_type": "code",
   "execution_count": null,
   "id": "0ebdf837",
   "metadata": {},
   "outputs": [],
   "source": []
  },
  {
   "cell_type": "code",
   "execution_count": null,
   "id": "ef57c8fd",
   "metadata": {},
   "outputs": [],
   "source": []
  },
  {
   "cell_type": "code",
   "execution_count": null,
   "id": "b0528bef",
   "metadata": {},
   "outputs": [],
   "source": []
  },
  {
   "cell_type": "code",
   "execution_count": null,
   "id": "5b674ee7",
   "metadata": {},
   "outputs": [],
   "source": []
  }
 ],
 "metadata": {
  "kernelspec": {
   "display_name": "Python 3 (ipykernel)",
   "language": "python",
   "name": "python3"
  },
  "language_info": {
   "codemirror_mode": {
    "name": "ipython",
    "version": 3
   },
   "file_extension": ".py",
   "mimetype": "text/x-python",
   "name": "python",
   "nbconvert_exporter": "python",
   "pygments_lexer": "ipython3",
   "version": "3.10.6"
  }
 },
 "nbformat": 4,
 "nbformat_minor": 5
}
