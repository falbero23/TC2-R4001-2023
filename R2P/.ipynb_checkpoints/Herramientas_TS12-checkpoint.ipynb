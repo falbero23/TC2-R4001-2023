{
 "cells": [
  {
   "cell_type": "markdown",
   "id": "dfded3b5",
   "metadata": {},
   "source": [
    "# TS12 \n",
    "<img src=\"logo_UTN.svg\" title=\"Logo UTN\" align=\"right\" width=\"150\"> "
   ]
  },
  {
   "cell_type": "markdown",
   "id": "331b4474",
   "metadata": {},
   "source": [
    "Punto 1"
   ]
  },
  {
   "cell_type": "code",
   "execution_count": 1,
   "id": "fef16b28",
   "metadata": {},
   "outputs": [],
   "source": [
    "### ---- Imports ----\n",
    "\n",
    "import sympy as sp\n",
    "from pytc2.general import print_latex, print_subtitle, a_equal_b_latex_s\n",
    "from pytc2.remociones import remover_valor_en_dc, remover_valor_en_infinito, remover_polo_sigma\n",
    "\n",
    "### ---- Variable Compleja\n",
    "\n",
    "s = sp.symbols('s ', complex=True)"
   ]
  },
  {
   "cell_type": "code",
   "execution_count": 2,
   "id": "2a21721c",
   "metadata": {},
   "outputs": [
    {
     "data": {
      "text/latex": [
       "$\\displaystyle Z_{22}(s)=\\frac{5 s^{2} + 43 s + 68}{s^{2} + 5 s + 4}$"
      ],
      "text/plain": [
       "<IPython.core.display.Math object>"
      ]
     },
     "metadata": {},
     "output_type": "display_data"
    }
   ],
   "source": [
    "### ---- Función de excitación ----\n",
    "\n",
    "Z22=(5*(s**2)+43*s+68)/(s**2+5*s+4)\n",
    "Z22=sp.nsimplify(Z22)\n",
    "\n",
    "print_latex(a_equal_b_latex_s('Z_{22}(s)', Z22))"
   ]
  },
  {
   "cell_type": "code",
   "execution_count": 3,
   "id": "6c895dee",
   "metadata": {},
   "outputs": [
    {
     "data": {
      "text/latex": [
       "$\\displaystyle Z_{R2C2}=\\frac{10}{s + 1}$"
      ],
      "text/plain": [
       "<IPython.core.display.Math object>"
      ]
     },
     "metadata": {},
     "output_type": "display_data"
    },
    {
     "data": {
      "text/latex": [
       "$\\displaystyle Z_2=\\frac{5 s + 28}{s + 4}$"
      ],
      "text/plain": [
       "<IPython.core.display.Math object>"
      ]
     },
     "metadata": {},
     "output_type": "display_data"
    }
   ],
   "source": [
    "### ---- Remoción de polo sobre el eje sigma => Tanque RC en serie---- \n",
    "sigma_R2C2=1\n",
    "\n",
    "Z2, ZR2C2, R2, C2 = remover_polo_sigma(Z22, sigma=sigma_R2C2, isImpedance=True, isRC=True)\n",
    "\n",
    "print_latex(a_equal_b_latex_s('Z_{R2C2}', ZR2C2))\n",
    "print_latex(a_equal_b_latex_s('Z_2', Z2))"
   ]
  },
  {
   "cell_type": "code",
   "execution_count": 4,
   "id": "0cbe3724",
   "metadata": {},
   "outputs": [
    {
     "data": {
      "text/latex": [
       "$\\displaystyle Z_{R3C3}=\\frac{8}{s + 4}$"
      ],
      "text/plain": [
       "<IPython.core.display.Math object>"
      ]
     },
     "metadata": {},
     "output_type": "display_data"
    }
   ],
   "source": [
    "### ---- Remoción de polo sobre el eje sigma => Tanque RC en serie---- \n",
    "sigma_R3C3=4\n",
    "\n",
    "Z4, ZR3C3, R3, C3 =remover_polo_sigma(Z2, sigma=sigma_R3C3, isImpedance=True, isRC=True)\n",
    "\n",
    "print_latex(a_equal_b_latex_s('Z_{R3C3}', ZR3C3))"
   ]
  },
  {
   "cell_type": "code",
   "execution_count": 5,
   "id": "48a13d00",
   "metadata": {},
   "outputs": [
    {
     "data": {
      "text/latex": [
       "$\\displaystyle Z_4=5$"
      ],
      "text/plain": [
       "<IPython.core.display.Math object>"
      ]
     },
     "metadata": {},
     "output_type": "display_data"
    }
   ],
   "source": [
    "### --- Resitor en derivación ---\n",
    "\n",
    "print_latex(a_equal_b_latex_s('Z_4', Z4))"
   ]
  },
  {
   "cell_type": "markdown",
   "id": "30fcb18a",
   "metadata": {},
   "source": [
    "Punto 2"
   ]
  },
  {
   "cell_type": "code",
   "execution_count": 6,
   "id": "72c7a258",
   "metadata": {},
   "outputs": [],
   "source": [
    "from pytc2.remociones import remover_polo_infinito, remover_polo_jw"
   ]
  },
  {
   "cell_type": "code",
   "execution_count": 7,
   "id": "8b3b55c0",
   "metadata": {},
   "outputs": [
    {
     "data": {
      "text/latex": [
       "$\\displaystyle Z_{22}=\\frac{2 s^{2} + 1.0}{s \\left(s^{2} + 2\\right)}$"
      ],
      "text/plain": [
       "<IPython.core.display.Math object>"
      ]
     },
     "metadata": {},
     "output_type": "display_data"
    }
   ],
   "source": [
    "### ---- Función excitación ----\n",
    "\n",
    "Z22=(2*(s**2+1/2))/(s*(s**2+2))\n",
    "\n",
    "print_latex(a_equal_b_latex_s('Z_{22}', Z22))"
   ]
  },
  {
   "cell_type": "code",
   "execution_count": 8,
   "id": "53ed8ca3",
   "metadata": {},
   "outputs": [
    {
     "data": {
      "text/latex": [
       "$\\displaystyle Y_2=\\frac{3 s}{4 \\left(s^{2} + \\frac{1}{2}\\right)}$"
      ],
      "text/plain": [
       "<IPython.core.display.Math object>"
      ]
     },
     "metadata": {},
     "output_type": "display_data"
    },
    {
     "data": {
      "text/latex": [
       "$\\displaystyle KC2=\\frac{s}{2}$"
      ],
      "text/plain": [
       "<IPython.core.display.Math object>"
      ]
     },
     "metadata": {},
     "output_type": "display_data"
    }
   ],
   "source": [
    "### ---- Remoción en infinito de admitancia => Capacitor en derivación ----\n",
    "Y2, KC2=remover_polo_infinito(1/Z22)\n",
    "\n",
    "Y2=sp.nsimplify(Y2)\n",
    "\n",
    "print_latex(a_equal_b_latex_s('Y_2', Y2))\n",
    "print_latex(a_equal_b_latex_s('KC2', KC2))"
   ]
  },
  {
   "cell_type": "code",
   "execution_count": 9,
   "id": "ad25ae08",
   "metadata": {},
   "outputs": [
    {
     "data": {
      "text/latex": [
       "$\\displaystyle Z_4=\\frac{2 \\left(s^{2} + 9\\right)}{27 s}$"
      ],
      "text/plain": [
       "<IPython.core.display.Math object>"
      ]
     },
     "metadata": {},
     "output_type": "display_data"
    },
    {
     "data": {
      "text/latex": [
       "$\\displaystyle KL1=\\frac{34 s}{27}$"
      ],
      "text/plain": [
       "<IPython.core.display.Math object>"
      ]
     },
     "metadata": {},
     "output_type": "display_data"
    }
   ],
   "source": [
    "### ---- Remoción parcial en infinito de impedancia para situar cero en j3=> Inductor en derivación ----\n",
    "\n",
    "Z4,KL1=remover_polo_infinito(1/Y2, omega_zero=3)\n",
    "\n",
    "Y2=sp.nsimplify(Z4)\n",
    "\n",
    "print_latex(a_equal_b_latex_s('Z_4', Z4))\n",
    "print_latex(a_equal_b_latex_s('KL1', KL1))"
   ]
  },
  {
   "cell_type": "code",
   "execution_count": 10,
   "id": "b5f2470e",
   "metadata": {},
   "outputs": [
    {
     "data": {
      "text/latex": [
       "$\\displaystyle Y_4=\\frac{27 s}{2 \\left(s^{2} + 9\\right)}$"
      ],
      "text/plain": [
       "<IPython.core.display.Math object>"
      ]
     },
     "metadata": {},
     "output_type": "display_data"
    }
   ],
   "source": [
    "### ---- Queda un tanque LC en derivación ----\n",
    "Y4=1/Z4\n",
    "\n",
    "print_latex(a_equal_b_latex_s('Y_4', Y4))"
   ]
  },
  {
   "cell_type": "markdown",
   "id": "d776f79e",
   "metadata": {},
   "source": [
    "Verificacion"
   ]
  },
  {
   "cell_type": "code",
   "execution_count": 11,
   "id": "883a3425",
   "metadata": {},
   "outputs": [],
   "source": [
    "L1=2/27\n",
    "C1=3/2\n",
    "L2=34/27\n",
    "C2=1/2\n",
    "RL=1"
   ]
  },
  {
   "cell_type": "code",
   "execution_count": 12,
   "id": "5427efe9",
   "metadata": {},
   "outputs": [],
   "source": [
    "TY1= sp.Matrix  ([ \n",
    "                    [1, 0],\n",
    "                    [1/(s*L1+1/(s*C1)) , 1]\n",
    "                ])\n",
    "\n",
    "TL2= sp.Matrix  ([ \n",
    "                    [1, s*L2],\n",
    "                    [0 , 1]\n",
    "                ])\n",
    "\n",
    "TC2= sp.Matrix  ([ \n",
    "                    [1, 0],\n",
    "                    [s*C2, 1]\n",
    "                ])\n",
    "\n",
    "TRL= sp.Matrix  ([ \n",
    "                    [1, 0],\n",
    "                    [1, 1]\n",
    "                ])"
   ]
  },
  {
   "cell_type": "code",
   "execution_count": 13,
   "id": "b013a698",
   "metadata": {},
   "outputs": [
    {
     "data": {
      "text/latex": [
       "$\\displaystyle T=\\left[\\begin{matrix}0.62962962962963 s^{2} + 1.25925925925926 s + 1 & 1.25925925925926 s\\\\\\frac{0.666666666666667 s^{3} + 1.33333333333333 s^{2} + 1.33333333333333 s + 0.666666666666667}{0.0740740740740741 s^{2} + 0.666666666666667} & \\frac{1.33333333333333 s^{2} + 0.666666666666667}{0.0740740740740741 s^{2} + 0.666666666666667}\\end{matrix}\\right]$"
      ],
      "text/plain": [
       "<IPython.core.display.Math object>"
      ]
     },
     "metadata": {},
     "output_type": "display_data"
    }
   ],
   "source": [
    "T=TY1*TL2*TC2*TRL\n",
    "\n",
    "T=sp.simplify(T)\n",
    "\n",
    "print_latex(a_equal_b_latex_s('T', T))"
   ]
  },
  {
   "cell_type": "code",
   "execution_count": 14,
   "id": "863890c7",
   "metadata": {},
   "outputs": [
    {
     "data": {
      "text/latex": [
       "$\\displaystyle Tr=1/C=\\frac{s^{2} + 9}{9 \\left(s + 1\\right) \\left(s^{2} + s + 1\\right)}$"
      ],
      "text/plain": [
       "<IPython.core.display.Math object>"
      ]
     },
     "metadata": {},
     "output_type": "display_data"
    }
   ],
   "source": [
    "Tr=1/T[1,0]\n",
    "\n",
    "Tr=sp.nsimplify(Tr)\n",
    "Tr=sp.factor(Tr)\n",
    "\n",
    "print_latex(a_equal_b_latex_s('Tr=1/C', Tr))"
   ]
  },
  {
   "cell_type": "code",
   "execution_count": null,
   "id": "f511947b",
   "metadata": {},
   "outputs": [],
   "source": []
  },
  {
   "cell_type": "code",
   "execution_count": null,
   "id": "23b44d23",
   "metadata": {},
   "outputs": [],
   "source": []
  },
  {
   "cell_type": "code",
   "execution_count": null,
   "id": "399cd03b",
   "metadata": {},
   "outputs": [],
   "source": []
  }
 ],
 "metadata": {
  "kernelspec": {
   "display_name": "Python 3 (ipykernel)",
   "language": "python",
   "name": "python3"
  },
  "language_info": {
   "codemirror_mode": {
    "name": "ipython",
    "version": 3
   },
   "file_extension": ".py",
   "mimetype": "text/x-python",
   "name": "python",
   "nbconvert_exporter": "python",
   "pygments_lexer": "ipython3",
   "version": "3.10.12"
  }
 },
 "nbformat": 4,
 "nbformat_minor": 5
}
