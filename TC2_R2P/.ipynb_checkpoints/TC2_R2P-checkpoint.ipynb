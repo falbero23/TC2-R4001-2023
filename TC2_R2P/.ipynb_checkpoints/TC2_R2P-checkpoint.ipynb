{
 "cells": [
  {
   "cell_type": "markdown",
   "id": "fa163a7c",
   "metadata": {},
   "source": [
    "# Recuperatorio 2do Parcial\n",
    "<img src=\"logo_UTN.svg\" title=\"Logo UTN\" align=\"right\" width=\"150\"> "
   ]
  },
  {
   "cell_type": "markdown",
   "id": "dbfba523",
   "metadata": {},
   "source": [
    "## Teoría de Circuitos II\n",
    "### Alumno: Federico Albero\n",
    "### Curso: R4001"
   ]
  },
  {
   "cell_type": "markdown",
   "id": "0dd06b34",
   "metadata": {},
   "source": [
    "### Enunciado:\n",
    "\n",
    "<img src=\"enunciado_R2P.jpg\" title=\"Consigna\" > "
   ]
  },
  {
   "cell_type": "markdown",
   "id": "bb615e79",
   "metadata": {},
   "source": [
    "### Punto 1\n",
    "A continuación se adjunta documento PDF con la resolución analítica del ejercicio N°1."
   ]
  },
  {
   "cell_type": "code",
   "execution_count": 1,
   "id": "a654fff0",
   "metadata": {},
   "outputs": [
    {
     "data": {
      "text/html": [
       "\n",
       "        <iframe\n",
       "            width=\"1000\"\n",
       "            height=\"1000\"\n",
       "            src=\"./TC2_R2P_Ej1.pdf\"\n",
       "            frameborder=\"0\"\n",
       "            allowfullscreen\n",
       "            \n",
       "        ></iframe>\n",
       "        "
      ],
      "text/plain": [
       "<IPython.lib.display.IFrame at 0x7f7374276230>"
      ]
     },
     "execution_count": 1,
     "metadata": {},
     "output_type": "execute_result"
    }
   ],
   "source": [
    "from IPython.display import IFrame\n",
    "IFrame(\"./TC2_R2P_Ej1.pdf\", width=1000, height=1000)"
   ]
  },
  {
   "cell_type": "markdown",
   "id": "2209ff44",
   "metadata": {},
   "source": [
    "#### Simulación numérica\n",
    "Posterior a la resolución analítica, se realizaron una serie de simulaciones numéricas para verificar los resultados obtenidos. En este caso, se comprobaron los valores de los residuos $K_{01}, K_{02}, K_{03}$ al efectuar las remociones de los polos y también los productos matriciales de las matrices ABCD o T de los elementos de la red circuital obtenida para así poder verificar la impedancia de transferencia a través del parámetro $\\frac{1}{C}$."
   ]
  },
  {
   "cell_type": "markdown",
   "id": "c259bbdf",
   "metadata": {},
   "source": [
    "#### Comprobación residuos K01, K02, K03"
   ]
  },
  {
   "cell_type": "code",
   "execution_count": 2,
   "id": "e25a6702",
   "metadata": {},
   "outputs": [],
   "source": [
    "# Módulos\n",
    "\n",
    "import sympy as sp\n",
    "from pytc2.general import print_latex, print_subtitle, a_equal_b_latex_s\n",
    "from pytc2.remociones import remover_valor_en_dc, remover_valor_en_infinito, remover_polo_sigma\n",
    "\n",
    "from pytc2.remociones import remover_polo_infinito, remover_polo_jw\n",
    "from pytc2.sintesis_dipolo import remover_polo_dc\n",
    "\n",
    "### ---- Variable Compleja\n",
    "\n",
    "s = sp.symbols('s ', complex=True)"
   ]
  },
  {
   "cell_type": "code",
   "execution_count": 3,
   "id": "566618f7",
   "metadata": {},
   "outputs": [
    {
     "data": {
      "text/latex": [
       "$\\displaystyle Z_{11}=\\frac{s \\left(s^{2} + 3\\right)}{3 s^{2} + 1.0}$"
      ],
      "text/plain": [
       "<IPython.core.display.Math object>"
      ]
     },
     "metadata": {},
     "output_type": "display_data"
    }
   ],
   "source": [
    "# Función excitación a sintetizar\n",
    "\n",
    "Z11=(s*(s**2+3))/(3*(s**2+1/3))\n",
    "\n",
    "print_latex(a_equal_b_latex_s('Z_{11}', Z11))"
   ]
  },
  {
   "cell_type": "code",
   "execution_count": 4,
   "id": "19241036",
   "metadata": {},
   "outputs": [
    {
     "data": {
      "text/latex": [
       "$\\displaystyle Y_2=\\frac{8 s}{3 \\left(s^{2} + 3\\right)}$"
      ],
      "text/plain": [
       "<IPython.core.display.Math object>"
      ]
     },
     "metadata": {},
     "output_type": "display_data"
    },
    {
     "data": {
      "text/latex": [
       "$\\displaystyle K01=\\frac{1}{3 s}$"
      ],
      "text/plain": [
       "<IPython.core.display.Math object>"
      ]
     },
     "metadata": {},
     "output_type": "display_data"
    }
   ],
   "source": [
    "# 1ra remoción en w=0\n",
    "\n",
    "Y2, K01 = remover_polo_dc(1/Z11) # Y11 = 1/Z11\n",
    "Y2=sp.nsimplify(Y2)\n",
    "\n",
    "print_latex(a_equal_b_latex_s('Y_2', Y2))\n",
    "print_latex(a_equal_b_latex_s('K01', K01))"
   ]
  },
  {
   "cell_type": "code",
   "execution_count": 5,
   "id": "c5eb55dc",
   "metadata": {},
   "outputs": [
    {
     "data": {
      "text/latex": [
       "$\\displaystyle Z_4=\\frac{3 s}{8}$"
      ],
      "text/plain": [
       "<IPython.core.display.Math object>"
      ]
     },
     "metadata": {},
     "output_type": "display_data"
    },
    {
     "data": {
      "text/latex": [
       "$\\displaystyle K02=\\frac{9}{8 s}$"
      ],
      "text/plain": [
       "<IPython.core.display.Math object>"
      ]
     },
     "metadata": {},
     "output_type": "display_data"
    }
   ],
   "source": [
    "### 2da remoción en 0\n",
    "\n",
    "Z4, K02 = remover_polo_dc(1/Y2) # Z2 = 1/Y2\n",
    "Z4=sp.nsimplify(Z4)\n",
    "\n",
    "print_latex(a_equal_b_latex_s('Z_4', Z4))\n",
    "print_latex(a_equal_b_latex_s('K02', K02))"
   ]
  },
  {
   "cell_type": "code",
   "execution_count": 6,
   "id": "673f6e95",
   "metadata": {},
   "outputs": [
    {
     "data": {
      "text/latex": [
       "$\\displaystyle Y_6=0$"
      ],
      "text/plain": [
       "<IPython.core.display.Math object>"
      ]
     },
     "metadata": {},
     "output_type": "display_data"
    },
    {
     "data": {
      "text/latex": [
       "$\\displaystyle K03=\\frac{8}{3 s}$"
      ],
      "text/plain": [
       "<IPython.core.display.Math object>"
      ]
     },
     "metadata": {},
     "output_type": "display_data"
    }
   ],
   "source": [
    "### 3ra remoción en 0\n",
    "\n",
    "Y6, K03 = remover_polo_dc(1/Z4) # Y4 = 1/Z4\n",
    "Y6=sp.nsimplify(Y6)\n",
    "\n",
    "print_latex(a_equal_b_latex_s('Y_6', Y6))\n",
    "print_latex(a_equal_b_latex_s('K03', K03))"
   ]
  },
  {
   "cell_type": "markdown",
   "id": "18d1f2ed",
   "metadata": {},
   "source": [
    "#### Comprobación parámetro 1/C"
   ]
  },
  {
   "cell_type": "code",
   "execution_count": 7,
   "id": "263739fc",
   "metadata": {},
   "outputs": [],
   "source": [
    "# Valores de los componentes de la red eléctrica\n",
    "L1=3\n",
    "C2=8/9\n",
    "L3=3/8\n",
    "Yg=1 # Admitancia del generador de corriente normalizada"
   ]
  },
  {
   "cell_type": "code",
   "execution_count": 8,
   "id": "08d0d4b5",
   "metadata": {},
   "outputs": [],
   "source": [
    "TYg= sp.Matrix  ([ \n",
    "                    [1, 0],\n",
    "                    [Yg, 1]\n",
    "                ])\n",
    "\n",
    "TL1= sp.Matrix  ([ \n",
    "                    [1, 0],\n",
    "                    [1/(s*L1) , 1]\n",
    "                ])\n",
    "\n",
    "TC2= sp.Matrix  ([ \n",
    "                    [1, 1/(s*C2)],\n",
    "                    [0, 1]\n",
    "                ])\n",
    "\n",
    "TL3= sp.Matrix  ([ \n",
    "                    [1, 0],\n",
    "                    [1/(s*L3), 1]\n",
    "                ])"
   ]
  },
  {
   "cell_type": "code",
   "execution_count": 9,
   "id": "6f08d243",
   "metadata": {},
   "outputs": [
    {
     "data": {
      "text/latex": [
       "$\\displaystyle T=\\left[\\begin{matrix}1 + \\frac{3.0}{s^{2}} & \\frac{1.125}{s}\\\\1.0 + \\frac{3.0}{s} + \\frac{3.0}{s^{2}} + \\frac{1.0}{s^{3}} & 1 + \\frac{1.125}{s} + \\frac{0.375}{s^{2}}\\end{matrix}\\right]$"
      ],
      "text/plain": [
       "<IPython.core.display.Math object>"
      ]
     },
     "metadata": {},
     "output_type": "display_data"
    }
   ],
   "source": [
    "# Producto matricial\n",
    "T=TYg*TL1*TC2*TL3\n",
    "\n",
    "T=sp.simplify(T)\n",
    "\n",
    "print_latex(a_equal_b_latex_s('T', T))"
   ]
  },
  {
   "cell_type": "code",
   "execution_count": 10,
   "id": "50f37b6d",
   "metadata": {},
   "outputs": [
    {
     "data": {
      "text/latex": [
       "$\\displaystyle Tr=1/C=\\frac{s^{3}}{\\left(s + 1\\right)^{3}}$"
      ],
      "text/plain": [
       "<IPython.core.display.Math object>"
      ]
     },
     "metadata": {},
     "output_type": "display_data"
    }
   ],
   "source": [
    "Tr=1/T[1,0]\n",
    "\n",
    "Tr=sp.nsimplify(Tr)\n",
    "Tr=sp.factor(Tr)\n",
    "print_latex(a_equal_b_latex_s('Tr=1/C', Tr))"
   ]
  },
  {
   "cell_type": "markdown",
   "id": "2163709c",
   "metadata": {},
   "source": [
    "### Punto 3\n",
    "A continuación se adjunta documento PDF con la resolución analítica del ejercicio N°3."
   ]
  },
  {
   "cell_type": "code",
   "execution_count": 11,
   "id": "f47d85c3",
   "metadata": {},
   "outputs": [
    {
     "data": {
      "text/html": [
       "\n",
       "        <iframe\n",
       "            width=\"1000\"\n",
       "            height=\"1000\"\n",
       "            src=\"./TC2_R2P_Ej3.pdf\"\n",
       "            frameborder=\"0\"\n",
       "            allowfullscreen\n",
       "            \n",
       "        ></iframe>\n",
       "        "
      ],
      "text/plain": [
       "<IPython.lib.display.IFrame at 0x7f7341932d10>"
      ]
     },
     "execution_count": 11,
     "metadata": {},
     "output_type": "execute_result"
    }
   ],
   "source": [
    "from IPython.display import IFrame\n",
    "IFrame(\"./TC2_R2P_Ej3.pdf\", width=1000, height=1000)"
   ]
  }
 ],
 "metadata": {
  "kernelspec": {
   "display_name": "Python 3 (ipykernel)",
   "language": "python",
   "name": "python3"
  },
  "language_info": {
   "codemirror_mode": {
    "name": "ipython",
    "version": 3
   },
   "file_extension": ".py",
   "mimetype": "text/x-python",
   "name": "python",
   "nbconvert_exporter": "python",
   "pygments_lexer": "ipython3",
   "version": "3.10.12"
  }
 },
 "nbformat": 4,
 "nbformat_minor": 5
}
