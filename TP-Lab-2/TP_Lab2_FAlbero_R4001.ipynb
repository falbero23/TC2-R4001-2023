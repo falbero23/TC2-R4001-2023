{
 "cells": [
  {
   "cell_type": "markdown",
   "id": "436799cd",
   "metadata": {},
   "source": [
    "<img src=\"./Imagenes/logo_UTN.svg\" title=\"Logo UTN\" align=\"right\" width=\"150\"> \n",
    "\n",
    "# TRABAJO PRÁCTICO DE LABORATORIO N°2\n",
    "# FILTRADO DIGITAL"
   ]
  },
  {
   "cell_type": "markdown",
   "id": "bdbbcab2",
   "metadata": {},
   "source": [
    "## Teoría de Circuitos II\n",
    "### Curso: R4001\n",
    "### Alumno: Federico Albero\n",
    "### Profesor: Mariano Llamedo Soria\n",
    "### Jefe de TPs: César Fuoco\n",
    "### Ayudante de TPs: Israel Pavelek"
   ]
  },
  {
   "cell_type": "markdown",
   "id": "6acc83f2",
   "metadata": {},
   "source": [
    "---"
   ]
  },
  {
   "cell_type": "markdown",
   "id": "056220c5",
   "metadata": {},
   "source": [
    "## Sección N°1: Objetivos\n",
    "* Consolidar los conceptos de los sistemas muestreados mediante el uso de ADC y DACs.\n",
    "* Simular e implementar un filtro digital con el LPCXpresso1769.\n",
    "* Familiarizarse con el uso de librerias para el procesamiento digital de señales.\n",
    "* Medir las partes de la función transferencia $H_{[z]}$ para frecuencias menores a 10KHz."
   ]
  },
  {
   "cell_type": "markdown",
   "id": "afa8b58b",
   "metadata": {},
   "source": [
    "---"
   ]
  },
  {
   "cell_type": "markdown",
   "id": "74f3a0dd",
   "metadata": {},
   "source": [
    "## Sección N°2: Descripción del trabajo\n",
    "El trabajo práctico consistirá en el diseño, análisis, medición y discusión de filtros digitales. Las siguientes plantillas describen las características de los filtros a implementar:\n",
    "\n",
    "\n",
    "<img src=\"./Imagenes/plantillas.png\" title=\"Figura 2.0\">\n",
    "<p style=\"text-align: center;\">Figura 2.0: Plantillas de los filtros a diseñar.</p>"
   ]
  },
  {
   "cell_type": "markdown",
   "id": "1836caaf",
   "metadata": {},
   "source": [
    "**Filtro A:** Filtro pasa bajos FIR Equiripple, frecuencia de corte $f_{c}=1KHz$ con una atenuación máxima de 1dB en la banda de paso. Frecuencia de stop $f_{stop}=2KHz$, con una atenuación mínima de 20dB en la banda de atenuación.\n",
    "\n",
    "**Filtro B:** Filtro elimina banda FIR Least Squares, con una atenuación de 20dB como mínimo en la banda de atenuación entre las frecuencias de $4KHz$ y $6KHz$. En las bandas de paso deberá haber una atenuación máxima de 1dB.\n",
    "\n",
    "**Filtro C:** Filtro pasa bajos IIR Butterworth, frecuencia de corte $f_{c}=2KHz$ con una atenuación máxima de 1dB en la banda de paso. Frecuencia de stop $f_{stop}=3KHz$, con una atenuación mínima de 20dB en la banda de atenuación."
   ]
  },
  {
   "cell_type": "markdown",
   "id": "5b36a44c",
   "metadata": {},
   "source": [
    "### 2.1) LPCXpresso1769\n",
    "La simulación e implementación de los filtros digitales se llevó a cabo utilizando la placa [LPCXpresso1769](https://www.embeddedartists.com/products/lpcxpresso1769/), la cual cuenta con un procesador Cortex-M3. Para el procesamiento digital de señales, se empleó [CMSIS-DSP](https://arm-software.github.io/CMSIS_5/DSP/html/index.html), una librería diseñada para sistemas embebidos con arquitectura ARM.\n",
    "<img src=\"./Imagenes/LPCXpresso1769.png\" title=\"Figura 2.1\">\n",
    "<p style=\"text-align: center;\">Figura 2.1: Placa de desarrollo LPCXpresso1769.</p>"
   ]
  },
  {
   "cell_type": "markdown",
   "id": "d3b9f3f0",
   "metadata": {},
   "source": [
    "### 2.2) Descripción del hardware\n",
    "Para poder llevar a cabo esta práctica de laboratorio, se deberá implementar el sistema que se ilustra en la **Figura 2.2**\n",
    "\n",
    "Se inyectará una señal senoidal variable en frecuencia, la cual previamente a ingresar a la placa, deberá pasar por un filtro pasa bajos para evitar el efecto del *aliasing* (del cual se hablará mas en detalle en la sección N°5). Luego, el ADC se encargará de digitalizar dicha señal para que posteriormente sea filtrada por el filtro implementado que esté cargado en la memoría del microcontrolador (Filtro A, B o C). Por último, la señal de salida entregada por el DAC pasa por un filtro de interpolación para poder obtener correctamente la señal de salida, terminando así, el proceso de filtrado.\n",
    "\n",
    "<img src=\"./Imagenes/sistema_filtrado.png\" title=\"Figura 2.2\">\n",
    "<p style=\"text-align: center;\">Figura 2.2: Esquema del sistema a implementar durante la práctica de laboratorio</p>"
   ]
  },
  {
   "cell_type": "markdown",
   "id": "21fa11da",
   "metadata": {},
   "source": [
    "---"
   ]
  },
  {
   "cell_type": "markdown",
   "id": "22eef525",
   "metadata": {},
   "source": [
    "## Sección N°3: Diseño de los filtros digitales\n",
    "La herramienta utilizada para diseñar los filtros en cuestión fue *FDATool* del software *Matlab*. Al momento de sintetizar los filtros se buscó que estos sean del mínimo orden posible, mientras se cumplan las especificaciones impuestas por las plantillas de diseño. Además, según figura en el anexo de la documentación del trabajo, se debe utilizar el formato *punto fijo 1.31* para representar los coeficientes que compongan cada filtro.\n"
   ]
  },
  {
   "cell_type": "markdown",
   "id": "e675cc4d",
   "metadata": {},
   "source": [
    "## 3.1) Filtro A\n",
    "<img src=\"./FIR_Equiripple/plantilla_A.png\" title=\"Figura 3.1.1\">\n",
    "<p style=\"text-align: center;\">Figura 3.1.1: Plantilla de diseño filtro A</p>\n",
    "\n",
    "<img src=\"./FIR_Equiripple/FIR_Equiripple_Modulo.png\" title=\"Figura 3.1.2\">\n",
    "<p style=\"text-align: center;\">Figura 3.1.2: Respuesta de módulo del filtro A</p>\n",
    "\n",
    "<img src=\"./FIR_Equiripple/FIR_Equiripple_Fase.png\" title=\"Figura 3.1.3\">\n",
    "<p style=\"text-align: center;\">Figura 3.1.3: Respuesta de fase del filtro A</p>\n",
    "\n",
    "<img src=\"./FIR_Equiripple/FIR_Equiripple_GroupDelay.png\" title=\"Figura 3.1.4\">\n",
    "<p style=\"text-align: center;\">Figura 3.1.4: Retardo de grupo del filtro A</p>\n",
    "\n",
    "<img src=\"./FIR_Equiripple/FIR_Equiripple_PolosCeros.png\" title=\"Figura 3.1.5\">\n",
    "<p style=\"text-align: center;\">Figura 3.1.5: Diagrama de polos y ceros del filtro A</p>\n",
    "\n",
    "<img src=\"./FIR_Equiripple/FIR_Equiripple_coeficientes.png\" title=\"Figura 3.1.6\">\n",
    "<p style=\"text-align: center;\">Figura 3.1.6: Tabla de coeficientes del filtro A</p>"
   ]
  },
  {
   "cell_type": "markdown",
   "id": "509f5312",
   "metadata": {},
   "source": [
    "## 3.2) Filtro B\n",
    "<img src=\"./FIR_LeastSquares/plantilla_B.png\" title=\"Figura 3.2.1\">\n",
    "<p style=\"text-align: center;\">Figura 3.2.1: Plantilla de diseño filtro B</p>\n",
    "\n",
    "<img src=\"./FIR_LeastSquares/FIR_LS_Modulo.png\" title=\"Figura 3.2.2\">\n",
    "<p style=\"text-align: center;\">Figura 3.2.2: Respuesta de módulo del filtro B</p>\n",
    "\n",
    "<img src=\"./FIR_LeastSquares/FIR_LS_Fase.png\" title=\"Figura 3.2.3\">\n",
    "<p style=\"text-align: center;\">Figura 3.2.3: Respuesta de fase del filtro B</p>\n",
    "\n",
    "<img src=\"./FIR_LeastSquares/FIR_LS_GroupDelay.png\" title=\"Figura 3.2.4\">\n",
    "<p style=\"text-align: center;\">Figura 3.2.4: Retardo de grupo del filtro B</p>\n",
    "\n",
    "<img src=\"./FIR_LeastSquares/FIR_LS_PolosCeros.png\" title=\"Figura 3.2.5\">\n",
    "<p style=\"text-align: center;\">Figura 3.2.5: Diagrama de polos y ceros del filtro B</p>\n",
    "\n",
    "<img src=\"./FIR_LeastSquares/FIR_LS_Coeficientes.png\" title=\"Figura 3.2.6\">\n",
    "<p style=\"text-align: center;\">Figura 3.2.6: Tabla de coeficientes del filtro B</p>"
   ]
  },
  {
   "cell_type": "markdown",
   "id": "31a8f058",
   "metadata": {},
   "source": [
    "## 3.3) Filtro C\n",
    "<img src=\"./IIR_Butterworth/plantilla_C.png\" title=\"Figura 3.3.1\">\n",
    "<p style=\"text-align: center;\">Figura 3.3.1: Plantilla de diseño filtro C</p>\n",
    "\n",
    "<img src=\"./IIR_Butterworth/IIR_Butter_Modulo.png\" title=\"Figura 3.3.2\">\n",
    "<p style=\"text-align: center;\">Figura 3.3.2: Respuesta de módulo del filtro C</p>\n",
    "\n",
    "<img src=\"./IIR_Butterworth/IIR_Butter_Fase.png\" title=\"Figura 3.3.3\">\n",
    "<p style=\"text-align: center;\">Figura 3.3.3: Respuesta de fase del filtro C</p>\n",
    "\n",
    "<img src=\"./IIR_Butterworth/IIR_Butter_GroupDelay.png\" title=\"Figura 3.3.4\">\n",
    "<p style=\"text-align: center;\">Figura 3.3.4: Retardo de grupo del filtro C</p>\n",
    "\n",
    "<img src=\"./IIR_Butterworth/IIR_Butter_PolosCeros.png\" title=\"Figura 3.3.5\">\n",
    "<p style=\"text-align: center;\">Figura 3.3.5: Diagrama de polos y ceros del filtro C</p>\n",
    "\n",
    "<img src=\"./IIR_Butterworth/IIR_Butter_Coeficientes.png\" title=\"Figura 3.3.6\">\n",
    "<p style=\"text-align: center;\">Figura 3.3.6: Tabla de coeficientes del filtro C</p>"
   ]
  },
  {
   "cell_type": "markdown",
   "id": "223cd5cb",
   "metadata": {},
   "source": [
    "**Observación:** En las *figuras 3.1.4* y *3.2.4* se puede apreciar como el retardo de grupo de los filtros A y B, del tipo FIR, al tener una cantidad *impar* de coeficientes, es éntero: $\\tau_{G[z]} \\in \\mathbb{Z}$. Siempre es deseable en los filtros digitales tener un retardo de grupo entero de N cantidad de muestras para toda frecuencia, lo cual no se cumple en los filtros IIR."
   ]
  },
  {
   "cell_type": "markdown",
   "id": "5c456b83",
   "metadata": {},
   "source": [
    "---"
   ]
  },
  {
   "cell_type": "markdown",
   "id": "ff3f4769",
   "metadata": {},
   "source": [
    "## Sección N°4: Workspace\n",
    "Se utilizó el workspace provisto por la cátedra, en el cuál se deben cargar los coeficientes de los 3 filtros implementados dentro de los arrays correspondientes en el archivo *filter.c*, según el formato adecuado. Para los filtros FIR, la carga es tan sencilla como copiar y pegar los coeficientes arrojados por el FDAtool. Sin embargo, para los IIR, se deben cargar en formato separados por SOS (Second-Order Sections).\n",
    "\n",
    "## 4.1) Diagrama de flujo\n",
    "Para un mayor entendimiento del programa, se adjunta un diagrama de flujo en el cual se representan los aspectos mas importantes del código utilizado:\n",
    "\n",
    "<img src=\"./Imagenes/diagrama_flujo.png\" title=\"Figura 4.1\">\n",
    "<p style=\"text-align: center;\">Figura 4.1: Diagrama de flujo del programa</p>\n",
    "\n",
    "Para cambiar el filtro seleccionado, se debe cambiar el valor del #Define filter, por lo que se debe modificar en el código y bajarlo cada vez que se desea cambiar el filtro. Las lecturas del ADC se realizan por medio de interrupciones y se guardan en un buffer global, de manera que a la hora de aplicar los filtros estén disponibles los valores."
   ]
  },
  {
   "cell_type": "markdown",
   "id": "8d56d113",
   "metadata": {},
   "source": [
    "---"
   ]
  },
  {
   "cell_type": "markdown",
   "id": "022b5c4d",
   "metadata": {},
   "source": [
    "## Sección N°5: Armado del circuito\n",
    "\n",
    "\n",
    "## 5.1) Diseño de filtros antialias y de interpolación:\n",
    "La principal función de colocar un filtro pasa bajos en la entrada del sistema es la de **acotar en banda** a la señal que se desea analizar. Esto significa que la señal tendrá un ancho de banda máximo denominado $w_{max}$, lo cual es lógico ya que al procesar una señal real, el sistema de adquisición debe tener alguna restricción al respecto a la frecuencia máxima que acepta en su entrada. Es decir, el ancho de banda del sistema de adquisición se refiere a la mayor componente frecuencial que puede aceptar en su entrada.\n",
    "\n",
    "El criterio a tener en cuenta para su diseño será que su frecuencia de corte deba estar por debajo de $\\frac{f_{s}}{2} \\cong 22KHz$ (para así respetar el teorema del muestreo, ya que se está sampleando @ $f_{s}=44.1KHz$), pero a su vez también esta deberá estar por encima de todas las frecuencias de intenrés de los filtros a implementar para no perder parte del espectro. \n",
    "\n",
    "Por lo tanto, teniendo en cuenta todo lo anterior, se decidió diseñar un filtro pasa bajos Sallen Key con frecuencia de corte $f_{c}=10KHZ$ aprocimadamente. Se eligió la topología Sallen Key ya que esta es muy práctica al utilizar solamente un amplificador operacional y su red circuital no es demasiado compleja. \n",
    "\n",
    "A continuación, se adjunta un documento PDF del alumno Gonzalo Goumaz (compañero de equipo para la presente práctica de laboratorio) con el desarrollo del filtro en cuestión:"
   ]
  },
  {
   "cell_type": "code",
   "execution_count": 1,
   "id": "4a9d5168",
   "metadata": {},
   "outputs": [
    {
     "data": {
      "text/html": [
       "\n",
       "        <iframe\n",
       "            width=\"1000\"\n",
       "            height=\"1000\"\n",
       "            src=\"./Archivos/Filtros_Analogicos.pdf\"\n",
       "            frameborder=\"0\"\n",
       "            allowfullscreen\n",
       "            \n",
       "        ></iframe>\n",
       "        "
      ],
      "text/plain": [
       "<IPython.lib.display.IFrame at 0x7efdffb0b910>"
      ]
     },
     "execution_count": 1,
     "metadata": {},
     "output_type": "execute_result"
    }
   ],
   "source": [
    "from IPython.display import IFrame\n",
    "IFrame(\"./Archivos/Filtros_Analogicos.pdf\", width=1000, height=1000)"
   ]
  },
  {
   "cell_type": "markdown",
   "id": "96e32f1e",
   "metadata": {},
   "source": [
    "Para el filtro de interpolación de salida, se replicará el mismo filtro anti alias diseñado para la entrada del sistema.\n",
    "\n",
    "### Simulación en LTSpice del filtro analógico diseñado:\n",
    "\n",
    "Para comprobar el funcionamiento del filtro diseñado, se lo simuló en LTSpice y se obtuvo que el módulo de la transferencia cae 3dB en $f=9,772KHz\\cong10KHz$, satisfaciendo los requisitos para el cual fue diseñado.\n",
    "\n",
    "<img src=\"./Imagenes/SallenKey_BW_Modulo.png\" title=\"Figura 5.1\">\n",
    "<p style=\"text-align: center;\">Figura 5.1: Filtro pasa bajos Sallen Key</p>\n"
   ]
  },
  {
   "cell_type": "markdown",
   "id": "29739e15",
   "metadata": {},
   "source": [
    "## 5.2) Conexionado:\n",
    "\n",
    "<img src=\"./Imagenes/pines_LPC.png\" title=\"Figura 5.2.1\">\n",
    "<p style=\"text-align: center;\">Figura 5.2.1: Pines del LPCXpresso1769 a utilizar</p>\n",
    "\n",
    "<img src=\"./Imagenes/puertos_LPC.png\" title=\"Figura 5.2.2\">\n",
    "<p style=\"text-align: center;\">Figura 5.2.2: Descripción de puertos del LPCXpresso1769</p>"
   ]
  },
  {
   "cell_type": "markdown",
   "id": "e1b71cf9",
   "metadata": {},
   "source": [
    "**Aclaración**: La salida del filtro de Antialiasing se conectará al pin de entrada del ADC, y, la salida del DAC se conectará a la entrada del filtro de interpolación."
   ]
  },
  {
   "cell_type": "markdown",
   "id": "63d10ac4",
   "metadata": {},
   "source": [
    "---"
   ]
  },
  {
   "cell_type": "markdown",
   "id": "663c065d",
   "metadata": {},
   "source": [
    "## Sección N°6: Mediciones en el laboratorio"
   ]
  },
  {
   "cell_type": "markdown",
   "id": "14b15af0",
   "metadata": {},
   "source": [
    "La práctica de laboratorio fue llevada a cabo el día 12/10/23 con el objetivo de analizar los filtros y reconstruir la respuesta de módulo de los mismos.\n",
    "\n",
    "En primer lugar, se realizaron pruebas en el modo TALKTHROUGH, que opera como\n",
    "un seguidor digital reproduciendo en la salida lo que el micro percibe en la entrada. Este\n",
    "modo permite verificar el correcto funcionamiento de los filtros anti-alias e interpolación. Este siempre debe ser el primer paso a la hora de trabajar con filtros digitales, ya que la respuesta obtenida estará afectada también por los filtros analógicos.\n",
    "\n",
    "Para ensayar los filtros, se excitó el sistema con una señal senoidal utilizando un generador de funciones. Dicha señal estará montada sobre un nivel de continua dado que el ADC utilizado requiere de valores de tensión positivos para realizar la conversión. La entrada del ADC soporta tensiones desde 0 hasta 3,3V, por lo que el nivel de continua deberá estar en 1,65V para que quede en el medio del rango dinámico del mismo.\n",
    "Luego, con ayuda de un osciloscopio digital, se efectuaron mediciones de la respuesta de módulo en distintos puntos frecuenciales de interés de acuerdo con el filtro bajo análisis. Por último, se ensayó nuevamente a los filtros pero utilizando el analizador de audio _Agilent U8903A_ del departamento de electrónica de la institución.\n",
    "\n",
    "A continuación, pueden observarse los resultados de las mediciones efectuadas. Para todos los filtros digitales desarrollados, se ha desagregado el efecto de los filtros analógicos, por lo que la respuesta de módulo reconstruida se corresponde solamente con el filtro digital en sí."
   ]
  },
  {
   "cell_type": "markdown",
   "id": "da736505",
   "metadata": {},
   "source": [
    "## 6.1) Filtro Talkthrough\n",
    "Para este análisis, la respuesta de módulo obtenida será consecuencia de los filtros analógicos de antialiasing y de interpolación, ya que el Talkthrough actua como un seguidor digital.\n",
    "\n",
    "\n",
    "<img src=\"./Mediciones/Tabla_Mediciones_Talkthrough.png\" title=\"Figura 6.1.1\">\n",
    "<p style=\"text-align: center;\">Figura 6.1.1: Tabla de mediciones Talkthrough</p>\n",
    "\n",
    "<img src=\"./Mediciones/Respuesta_Talkthrough.png\" title=\"Figura 6.1.2\">\n",
    "<p style=\"text-align: center;\">Figura 6.1.2: Respuesta de módulo del Talkthrough en base a las mediciones</p>\n",
    "\n",
    "<img src=\"./Mediciones/Audio_Talkthrough.jpeg\" title=\"Figura 6.1.3\">\n",
    "<p style=\"text-align: center;\">Figura 6.1.3: Respuesta de módulo del Talkthrough con el analizador de audio</p>\n",
    "\n",
    "**Observaciones:** Se observa en la construcción realizada por el analizador de audio que, para una frecuencia de 10K se tiene una atenuación de 5,6dB. por lo que la frecuencia de corte se encuentra un poco por encima de este valor. Sin embargo en las mediciones realizadas con el osciloscopio, se observa que los -6dB se encuentran un poco por debajo de este valor. Luego de analizar los datos obtenidos, se puede afirmar que los filtros analógicos se comportan según lo esperado."
   ]
  },
  {
   "cell_type": "markdown",
   "id": "9f5d742a",
   "metadata": {},
   "source": [
    "## 6.2) Filtro FIR Equiripple\n",
    "\n",
    "<img src=\"./Mediciones/Tabla_Mediciones_FIR_Equiripple.png\" title=\"Figura 6.2.1\">\n",
    "<p style=\"text-align: center;\">Figura 6.2.1: Tabla de mediciones del filtro FIR Equiripple</p>\n",
    "\n",
    "<img src=\"./Mediciones/Respuesta_FIR_Equiripple.png\" title=\"Figura 6.2.2\">\n",
    "<p style=\"text-align: center;\">Figura 6.2.2: Respuesta de módulo del filtro FIR Equiripple en base a las mediciones</p>\n",
    "\n",
    "<img src=\"./Mediciones/Audio_FIR_Equiripple.jpeg\" title=\"Figura 6.2.3\">\n",
    "<p style=\"text-align: center;\">Figura 6.2.3: Respuesta de módulo del filtro FIR Equiripple con el analizador de audio</p>\n",
    "\n",
    "**Observaciones:** Visualizando las *figuras* *6.2.2* y *6.2.3* se puede apreciar que en ninguno de los dos casos, el filtro FIR Equiripple logra alcanzar los 20dB de atenuación en la frecuencia de stop $f_{stop}=2KHz$. La medición efectuada con el osciloscopio fue de aproximadamente 15dB, mientras que con el analizador de audio la atenuación se encuentra mas cercana a los 10dB. Estas diferencias en las mediciones podrían ser atribuidas a un piso de ruido que se observa a lo largo de toda la respuesta, ocasionado muy probablemente por falsos contactos en las conexiones durante el armado del circuito en protoboard en lugar de en una placa experimental."
   ]
  },
  {
   "cell_type": "markdown",
   "id": "592e902e",
   "metadata": {},
   "source": [
    "## 6.3) Filtro FIR Least Squares\n",
    "\n",
    "<img src=\"./Mediciones/Tabla_Mediciones_FIR_LeastSquares.png\" title=\"Figura 6.3.1\">\n",
    "<p style=\"text-align: center;\">Figura 6.3.1: Tabla de mediciones del filtro FIR Least Squares</p>\n",
    "\n",
    "<img src=\"./Mediciones/Respuesta_FIR_LeastSquares.png\" title=\"Figura 6.3.2\">\n",
    "<p style=\"text-align: center;\">Figura 6.3.2: Respuesta de módulo del filtro FIR Least Squares en base a las mediciones</p>\n",
    "\n",
    "<img src=\"./Mediciones/Audio_FIR_LeastSquares.jpeg\" title=\"Figura 6.3.3\">\n",
    "<p style=\"text-align: center;\">Figura 6.3.3: Respuesta de módulo del filtro FIR Least Squares con el analizador de audio</p>\n",
    "\n",
    "**Observaciones:** Para el caso del filtro FIR Least Squares, la respuesta de módulo reconstruida a partir de las mediciones efectuadas con el osciloscopio cumple con los requisitos de la plantilla de diseño tanto en la banda de paso como en la banda de atenuación. Por el contrario, la respuesta de módulo obtenida mediante el analizador de audio no logra superar una atenuación de aproximadamente 8.5dB en la banda de atenuación. Nuevamente se deja asentado que existe mucho ruido en esta medición si se observa la *figura 6.3.3*."
   ]
  },
  {
   "cell_type": "markdown",
   "id": "3529c43e",
   "metadata": {},
   "source": [
    "## 6.4) Filtro IIR Butterworth\n",
    "\n",
    "<img src=\"./Mediciones/Tabla_Mediciones_IIR_Butterworth.png\" title=\"Figura 6.4.1\">\n",
    "<p style=\"text-align: center;\">Figura 6.4.1: Tabla de mediciones del filtro IIR Butterworth</p>\n",
    "\n",
    "<img src=\"./Mediciones/Respuesta_IIR_Butterworth.png\" title=\"Figura 6.4.2\">\n",
    "<p style=\"text-align: center;\">Figura 6.4.2: Respuesta de módulo del filtro IIR Butterworth en base a las mediciones</p>\n",
    "\n",
    "<img src=\"./Mediciones/Audio_IIR_Butterworth.jpeg\" title=\"Figura 6.4.3\">\n",
    "<p style=\"text-align: center;\">Figura 6.4.3: Respuesta de módulo del filtro IIR Butterworth con el analizador de audio</p>\n",
    "\n",
    "**Observaciones:** Ambas gráficas obtenidas cumplen cumplen con el requisito de la atenuación máxima en la banda de paso, pero por el contrario, ninguna cumple con la especificación de la atenuación mínima para la frecuencia $f_{stop}=3KHz$. La respuesta obtenida en base a las mediciones con el osciloscopio logra una atenuación de aproximadamente 16-17dB @ $f_{stop}=3KHz$, mientras que la medición del analizador de audio arroja un resultado de -11dB. Persiste el problema del ruido también en esta medición."
   ]
  },
  {
   "cell_type": "markdown",
   "id": "38162088",
   "metadata": {},
   "source": [
    "---"
   ]
  },
  {
   "cell_type": "markdown",
   "id": "2e7d4a4f",
   "metadata": {},
   "source": [
    "## Sección N°7: Conclusiones\n",
    "\n",
    "En base a los resultados obtenidos durante la práctica de laboratorio y, al contrastarlos con los arrojados en un principio por las simulaciones al momento de sintetizar y diseñar los filtros en cuestión, se determina que estos fueron satisfactorios pero aún asi no cumplen con las espectativas puestas ni con los requerimientos de las plantillas en muchos casos.\n",
    "\n",
    "En general, las atenuaciones máximas especificadas en las bandas de paso eran cumplidas sin problemas, pero en las atenuaciones mínimas en las bandas de atenuación se encontró mucha discrepancia en los resultados obtenidos entre la simulación, las mediciones con el osciloscopio y el analizador de audio. Una posible observación de los resultados obtenidos es que, las mediciones de la atenuación mínima efectuadas con el analizador de audio en todos los casos han sido inferiores que las obtenidas mediante el osciloscopio digital.\n",
    "\n",
    "Como ya se mencionó en las observaciones de las mediciones en la *sección N°6*, se detectó mucho ruido presente en las mediciones realizadas con el analizador de audio. Para trazar un paralelo, esto en el TPLab N°1 no había ocurrido, ya que se habían obtenido resultados suficientemente nítidos con el mismo instrumento de medición. En dicha ocación, se había confeccionado un prototipo en una placa universal, mientras que en este caso se armó el circuito sobre un protoboard, lo que nos puede llevar a pensar que el ruido presente en las mediciones sea consecuencia de falsos contactos en el armado del mismo.\n",
    "\n",
    "Otra posible solución que se puede sugerir sería diseñar nuevamente los filtros digitales con requisitos aún mas exigentes que los dispuestos por las plantillas, teniendo en cuenta que en la implementación real, los valores de atenuación en las zonas de interés posiblemente sea menor que el diseñado originalmente.\n",
    "\n",
    "Un aspecto a destacar del trabajo fue que al momento de diseñar los filtros con la herramienta *FDATool*, se ponen en práctica diversos conceptos del espectro digital vistos tanto en la presente materia como en Análisis de Señales y Sistemas: comparando las figuras 3.1.5, 3.2.5 y 3.3.5 se puede observar como en el caso de los filtros FIR todos los polos se encuentran en el origen, mientras que en el caso del filtro IIR tanto los polos como los ceros se encuentran distribuidos por todo el plano Z. Otra observación interesante para destacar es como, los filtros A (LPF FIR) y C (LPF IIR) tienen respuesta de módulo similares, logrando niveles de atenuación comparables entre sí, pero teniendo en cuenta que el filtro IIR utiliza muchos menos coeficientes que el filtro FIR para lograrlo.\n",
    "\n",
    "\n",
    "Para cerrar, si bien los resultados obtenidos no fueron los esperados, el saldo total de la práctica fue positivo ya que constituyó una primera experiencia de ensayo de filtros digitales sobre un hardware desconocido en mi caso como lo era el LPCXpresso1769, ya que en Informática 2 había utilizado el LPC845 con un Cortex M0+."
   ]
  },
  {
   "cell_type": "markdown",
   "id": "bdf40725",
   "metadata": {},
   "source": [
    "---"
   ]
  }
 ],
 "metadata": {
  "kernelspec": {
   "display_name": "Python 3 (ipykernel)",
   "language": "python",
   "name": "python3"
  },
  "language_info": {
   "codemirror_mode": {
    "name": "ipython",
    "version": 3
   },
   "file_extension": ".py",
   "mimetype": "text/x-python",
   "name": "python",
   "nbconvert_exporter": "python",
   "pygments_lexer": "ipython3",
   "version": "3.10.12"
  }
 },
 "nbformat": 4,
 "nbformat_minor": 5
}
