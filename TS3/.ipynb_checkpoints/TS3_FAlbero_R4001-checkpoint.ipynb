{
 "cells": [
  {
   "cell_type": "markdown",
   "id": "37f2cdcb",
   "metadata": {},
   "source": [
    "# Trabajo Semanal N°3 (En proceso)\n",
    "<img src=\"logo_UTN.svg\" title=\"Asi es como se añade una imagen en Markdown\" align=\"right\" width=\"150\"> "
   ]
  },
  {
   "cell_type": "markdown",
   "id": "075af45f",
   "metadata": {},
   "source": [
    "## Teoría de Circuitos II\n",
    "### Alumno: Federico Albero\n",
    "### Curso: R4001"
   ]
  },
  {
   "cell_type": "markdown",
   "id": "7af4c8a5",
   "metadata": {},
   "source": [
    "#### Resolución ejercicios 1, 2, 3, 4, 5:"
   ]
  },
  {
   "cell_type": "code",
   "execution_count": 1,
   "id": "dad4db82",
   "metadata": {},
   "outputs": [
    {
     "data": {
      "text/html": [
       "\n",
       "        <iframe\n",
       "            width=\"1000\"\n",
       "            height=\"1000\"\n",
       "            src=\"./TS3_FAlbero_R4001.pdf\"\n",
       "            frameborder=\"0\"\n",
       "            allowfullscreen\n",
       "            \n",
       "        ></iframe>\n",
       "        "
      ],
      "text/plain": [
       "<IPython.lib.display.IFrame at 0x7f2446f7ae60>"
      ]
     },
     "execution_count": 1,
     "metadata": {},
     "output_type": "execute_result"
    }
   ],
   "source": [
    "from IPython.display import IFrame\n",
    "IFrame(\"./TS3_FAlbero_R4001.pdf\", width=1000, height=1000)"
   ]
  }
 ],
 "metadata": {
  "kernelspec": {
   "display_name": "Python 3 (ipykernel)",
   "language": "python",
   "name": "python3"
  },
  "language_info": {
   "codemirror_mode": {
    "name": "ipython",
    "version": 3
   },
   "file_extension": ".py",
   "mimetype": "text/x-python",
   "name": "python",
   "nbconvert_exporter": "python",
   "pygments_lexer": "ipython3",
   "version": "3.10.6"
  }
 },
 "nbformat": 4,
 "nbformat_minor": 5
}
